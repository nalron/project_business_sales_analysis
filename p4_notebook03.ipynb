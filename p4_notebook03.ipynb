{
 "cells": [
  {
   "cell_type": "markdown",
   "metadata": {},
   "source": [
    "# Analyse des ventes de l'entreprise «Rester livres»\n",
    "\n",
    "*Etude data - Projet 4 - Nalron (octobre 2019)* /\n",
    "*OpenClassrooms - ENSAE-ENSAI Formation Continue*"
   ]
  },
  {
   "cell_type": "markdown",
   "metadata": {},
   "source": [
    "---"
   ]
  },
  {
   "cell_type": "markdown",
   "metadata": {},
   "source": [
    "# Mission 3 : les corrélations…\n",
    "**Les corrélations indiquent si deux variables sont linéairement équivalentes.**\n",
    "\n",
    "Voici quelques questions supplémentaires pour nous aider à mieux comprendre les ventes enregistrées.\n",
    "\n",
    "- Y a-t-il une corrélation entre le sexe des clients et les catégories de produits achetés ?\n",
    "- Y a-t-il une corrélation entre l'âge des clients et le montant total des achats ?\n",
    "- Y a-t-il une corrélation entre l'âge des clients et la fréquence d’achat (nombre d'achats par mois) ?\n",
    "- Y a-t-il une corrélation entre l'âge des clients et la taille du panier moyen (en nombre d’articles) ?\n",
    "- Y a-t-il une corrélation entre l'âge des clients et les catégories de produits achetés ?"
   ]
  },
  {
   "cell_type": "markdown",
   "metadata": {},
   "source": [
    "#### Un peu de théorie :\n",
    "\n",
    "Pour reprendre la définition de *Wikipédia* que je trouve plutôt bien trouvée : \n",
    "\n",
    "\"En probabilités et en statistique, la corrélation entre plusieurs variables aléatoires ou statistiques est une notion de liaison qui contredit leur indépendance.\""
   ]
  },
  {
   "cell_type": "markdown",
   "metadata": {},
   "source": [
    "## Préparation des données : Jointure des 3 dataframes\n",
    "Il est judicieux, pour plus compréhension, d'ajouter une colonne 'age'."
   ]
  },
  {
   "cell_type": "code",
   "execution_count": 83,
   "metadata": {},
   "outputs": [],
   "source": [
    "#Utilisation du dataframe df résultant de la jointure de df_customers, df_transactionsv1_products\n",
    "df['age'] = 2022 - df.birth"
   ]
  },
  {
   "cell_type": "code",
   "execution_count": 84,
   "metadata": {},
   "outputs": [
    {
     "data": {
      "text/plain": [
       "client_id             object\n",
       "sex                   object\n",
       "birth                  int64\n",
       "id_prod               object\n",
       "date          datetime64[ns]\n",
       "session_id            object\n",
       "price                float64\n",
       "categ                  int64\n",
       "age                    int64\n",
       "dtype: object"
      ]
     },
     "execution_count": 84,
     "metadata": {},
     "output_type": "execute_result"
    }
   ],
   "source": [
    "#Visualisation rapide des catégories de df\n",
    "df.dtypes"
   ]
  },
  {
   "cell_type": "code",
   "execution_count": 85,
   "metadata": {},
   "outputs": [
    {
     "data": {
      "text/html": [
       "<div>\n",
       "<style scoped>\n",
       "    .dataframe tbody tr th:only-of-type {\n",
       "        vertical-align: middle;\n",
       "    }\n",
       "\n",
       "    .dataframe tbody tr th {\n",
       "        vertical-align: top;\n",
       "    }\n",
       "\n",
       "    .dataframe thead th {\n",
       "        text-align: right;\n",
       "    }\n",
       "</style>\n",
       "<table border=\"1\" class=\"dataframe\">\n",
       "  <thead>\n",
       "    <tr style=\"text-align: right;\">\n",
       "      <th></th>\n",
       "      <th>client_id</th>\n",
       "      <th>sex</th>\n",
       "      <th>birth</th>\n",
       "      <th>id_prod</th>\n",
       "      <th>date</th>\n",
       "      <th>session_id</th>\n",
       "      <th>price</th>\n",
       "      <th>categ</th>\n",
       "      <th>age</th>\n",
       "    </tr>\n",
       "  </thead>\n",
       "  <tbody>\n",
       "    <tr>\n",
       "      <th>0</th>\n",
       "      <td>c_4410</td>\n",
       "      <td>f</td>\n",
       "      <td>1967</td>\n",
       "      <td>0_1420</td>\n",
       "      <td>2021-03-22 22:31:25.825764</td>\n",
       "      <td>s_10092</td>\n",
       "      <td>11.53</td>\n",
       "      <td>0</td>\n",
       "      <td>55</td>\n",
       "    </tr>\n",
       "    <tr>\n",
       "      <th>1</th>\n",
       "      <td>c_4410</td>\n",
       "      <td>f</td>\n",
       "      <td>1967</td>\n",
       "      <td>0_1390</td>\n",
       "      <td>2021-09-24 23:35:40.652636</td>\n",
       "      <td>s_94984</td>\n",
       "      <td>19.37</td>\n",
       "      <td>0</td>\n",
       "      <td>55</td>\n",
       "    </tr>\n",
       "    <tr>\n",
       "      <th>2</th>\n",
       "      <td>c_4410</td>\n",
       "      <td>f</td>\n",
       "      <td>1967</td>\n",
       "      <td>1_483</td>\n",
       "      <td>2021-03-13 21:35:55.949042</td>\n",
       "      <td>s_5913</td>\n",
       "      <td>15.99</td>\n",
       "      <td>1</td>\n",
       "      <td>55</td>\n",
       "    </tr>\n",
       "    <tr>\n",
       "      <th>3</th>\n",
       "      <td>c_4410</td>\n",
       "      <td>f</td>\n",
       "      <td>1967</td>\n",
       "      <td>1_267</td>\n",
       "      <td>2021-09-24 23:15:59.919591</td>\n",
       "      <td>s_94984</td>\n",
       "      <td>27.99</td>\n",
       "      <td>1</td>\n",
       "      <td>55</td>\n",
       "    </tr>\n",
       "    <tr>\n",
       "      <th>4</th>\n",
       "      <td>c_4410</td>\n",
       "      <td>f</td>\n",
       "      <td>1967</td>\n",
       "      <td>1_395</td>\n",
       "      <td>2021-09-24 23:57:35.138518</td>\n",
       "      <td>s_94984</td>\n",
       "      <td>28.99</td>\n",
       "      <td>1</td>\n",
       "      <td>55</td>\n",
       "    </tr>\n",
       "  </tbody>\n",
       "</table>\n",
       "</div>"
      ],
      "text/plain": [
       "  client_id sex  birth id_prod                       date session_id  price  \\\n",
       "0    c_4410   f   1967  0_1420 2021-03-22 22:31:25.825764    s_10092  11.53   \n",
       "1    c_4410   f   1967  0_1390 2021-09-24 23:35:40.652636    s_94984  19.37   \n",
       "2    c_4410   f   1967   1_483 2021-03-13 21:35:55.949042     s_5913  15.99   \n",
       "3    c_4410   f   1967   1_267 2021-09-24 23:15:59.919591    s_94984  27.99   \n",
       "4    c_4410   f   1967   1_395 2021-09-24 23:57:35.138518    s_94984  28.99   \n",
       "\n",
       "   categ  age  \n",
       "0      0   55  \n",
       "1      0   55  \n",
       "2      1   55  \n",
       "3      1   55  \n",
       "4      1   55  "
      ]
     },
     "execution_count": 85,
     "metadata": {},
     "output_type": "execute_result"
    }
   ],
   "source": [
    "#Visualisation rapide de dataframe df\n",
    "df.head()"
   ]
  },
  {
   "cell_type": "markdown",
   "metadata": {},
   "source": [
    "## Première approche des corrélations sur l'ensemble de nos variables numériques"
   ]
  },
  {
   "cell_type": "code",
   "execution_count": 86,
   "metadata": {},
   "outputs": [
    {
     "data": {
      "text/html": [
       "<div>\n",
       "<style scoped>\n",
       "    .dataframe tbody tr th:only-of-type {\n",
       "        vertical-align: middle;\n",
       "    }\n",
       "\n",
       "    .dataframe tbody tr th {\n",
       "        vertical-align: top;\n",
       "    }\n",
       "\n",
       "    .dataframe thead th {\n",
       "        text-align: right;\n",
       "    }\n",
       "</style>\n",
       "<table border=\"1\" class=\"dataframe\">\n",
       "  <thead>\n",
       "    <tr style=\"text-align: right;\">\n",
       "      <th></th>\n",
       "      <th>birth</th>\n",
       "      <th>price</th>\n",
       "      <th>categ</th>\n",
       "      <th>age</th>\n",
       "    </tr>\n",
       "  </thead>\n",
       "  <tbody>\n",
       "    <tr>\n",
       "      <th>birth</th>\n",
       "      <td>1.000000</td>\n",
       "      <td>0.210044</td>\n",
       "      <td>0.094550</td>\n",
       "      <td>-1.000000</td>\n",
       "    </tr>\n",
       "    <tr>\n",
       "      <th>price</th>\n",
       "      <td>0.210044</td>\n",
       "      <td>1.000000</td>\n",
       "      <td>0.669035</td>\n",
       "      <td>-0.210044</td>\n",
       "    </tr>\n",
       "    <tr>\n",
       "      <th>categ</th>\n",
       "      <td>0.094550</td>\n",
       "      <td>0.669035</td>\n",
       "      <td>1.000000</td>\n",
       "      <td>-0.094550</td>\n",
       "    </tr>\n",
       "    <tr>\n",
       "      <th>age</th>\n",
       "      <td>-1.000000</td>\n",
       "      <td>-0.210044</td>\n",
       "      <td>-0.094550</td>\n",
       "      <td>1.000000</td>\n",
       "    </tr>\n",
       "  </tbody>\n",
       "</table>\n",
       "</div>"
      ],
      "text/plain": [
       "          birth     price     categ       age\n",
       "birth  1.000000  0.210044  0.094550 -1.000000\n",
       "price  0.210044  1.000000  0.669035 -0.210044\n",
       "categ  0.094550  0.669035  1.000000 -0.094550\n",
       "age   -1.000000 -0.210044 -0.094550  1.000000"
      ]
     },
     "execution_count": 86,
     "metadata": {},
     "output_type": "execute_result"
    }
   ],
   "source": [
    "#Utilisation de la méthode .corr()\n",
    "df.corr().head()"
   ]
  },
  {
   "cell_type": "code",
   "execution_count": 87,
   "metadata": {},
   "outputs": [
    {
     "data": {
      "image/png": "[encoded data removed]",
      "text/plain": [
       "<Figure size 1008x504 with 2 Axes>"
      ]
     },
     "metadata": {},
     "output_type": "display_data"
    }
   ],
   "source": [
    "#Méthode .corr() avec par défaut la formule de la corrélation linéaire de Pearson\n",
    "sns.heatmap(df.corr(), annot=True, fmt=\".1f\", cmap='Greens')\n",
    "plt.title('Corrélation HeatMap de quelques variables')\n",
    "plt.savefig(\"p4_graphic/heatmap_global.png\")\n",
    "plt.show()"
   ]
  },
  {
   "cell_type": "markdown",
   "metadata": {},
   "source": [
    "*Cet HeatMap renvoie une première image des possibles corrélations linéaires. Par exemple, et sans suprise, les prix produits / catégories sont fortement corrélés. Dans notre contexte cette analyse se révèle trop succincte, d'autres tests doivent-être menés au cas par cas…*"
   ]
  },
  {
   "cell_type": "markdown",
   "metadata": {},
   "source": [
    "## Analyse de la corrélation entre le sexe des clients et les catégories de produits achetés"
   ]
  },
  {
   "cell_type": "code",
   "execution_count": 88,
   "metadata": {},
   "outputs": [
    {
     "data": {
      "text/html": [
       "<div>\n",
       "<style scoped>\n",
       "    .dataframe tbody tr th:only-of-type {\n",
       "        vertical-align: middle;\n",
       "    }\n",
       "\n",
       "    .dataframe tbody tr th {\n",
       "        vertical-align: top;\n",
       "    }\n",
       "\n",
       "    .dataframe thead th {\n",
       "        text-align: right;\n",
       "    }\n",
       "</style>\n",
       "<table border=\"1\" class=\"dataframe\">\n",
       "  <thead>\n",
       "    <tr style=\"text-align: right;\">\n",
       "      <th>categ</th>\n",
       "      <th>0</th>\n",
       "      <th>1</th>\n",
       "      <th>2</th>\n",
       "    </tr>\n",
       "    <tr>\n",
       "      <th>sex</th>\n",
       "      <th></th>\n",
       "      <th></th>\n",
       "      <th></th>\n",
       "    </tr>\n",
       "  </thead>\n",
       "  <tbody>\n",
       "    <tr>\n",
       "      <th>f</th>\n",
       "      <td>94218</td>\n",
       "      <td>54497</td>\n",
       "      <td>7693</td>\n",
       "    </tr>\n",
       "    <tr>\n",
       "      <th>m</th>\n",
       "      <td>95507</td>\n",
       "      <td>53230</td>\n",
       "      <td>8680</td>\n",
       "    </tr>\n",
       "  </tbody>\n",
       "</table>\n",
       "</div>"
      ],
      "text/plain": [
       "categ      0      1     2\n",
       "sex                      \n",
       "f      94218  54497  7693\n",
       "m      95507  53230  8680"
      ]
     },
     "execution_count": 88,
     "metadata": {},
     "output_type": "execute_result"
    }
   ],
   "source": [
    "#Création du tableau de contingence \"Matrice des valeurs observées\"\n",
    "#Variables 'sex' et 'categ' du dataframe df\n",
    "X = 'sex'\n",
    "Y = 'categ'\n",
    "\n",
    "#Calcul du tableau de contigence par la méthode .pivot_table()\n",
    "c = df[[X, Y]].pivot_table(index=X, columns=Y, aggfunc=len) ###, margins=True, margins_name='Total'\n",
    "tx = df[X].value_counts()\n",
    "ty = df[Y].value_counts()\n",
    "\n",
    "#Création d'une copie du dataframe original\n",
    "cont = c.copy()\n",
    "cont"
   ]
  },
  {
   "cell_type": "code",
   "execution_count": 89,
   "metadata": {},
   "outputs": [
    {
     "data": {
      "text/html": [
       "<div>\n",
       "<style scoped>\n",
       "    .dataframe tbody tr th:only-of-type {\n",
       "        vertical-align: middle;\n",
       "    }\n",
       "\n",
       "    .dataframe tbody tr th {\n",
       "        vertical-align: top;\n",
       "    }\n",
       "\n",
       "    .dataframe thead th {\n",
       "        text-align: right;\n",
       "    }\n",
       "</style>\n",
       "<table border=\"1\" class=\"dataframe\">\n",
       "  <thead>\n",
       "    <tr style=\"text-align: right;\">\n",
       "      <th></th>\n",
       "      <th>0</th>\n",
       "      <th>1</th>\n",
       "      <th>2</th>\n",
       "    </tr>\n",
       "  </thead>\n",
       "  <tbody>\n",
       "    <tr>\n",
       "      <th>m</th>\n",
       "      <td>95167.498845</td>\n",
       "      <td>54036.680185</td>\n",
       "      <td>8212.82097</td>\n",
       "    </tr>\n",
       "    <tr>\n",
       "      <th>f</th>\n",
       "      <td>94557.501155</td>\n",
       "      <td>53690.319815</td>\n",
       "      <td>8160.17903</td>\n",
       "    </tr>\n",
       "  </tbody>\n",
       "</table>\n",
       "</div>"
      ],
      "text/plain": [
       "              0             1           2\n",
       "m  95167.498845  54036.680185  8212.82097\n",
       "f  94557.501155  53690.319815  8160.17903"
      ]
     },
     "execution_count": 89,
     "metadata": {},
     "output_type": "execute_result"
    }
   ],
   "source": [
    "#Création de la \"Matrice des valeurs attendues\"\n",
    "#L’occurrence attendue est simplement la fréquence que l’on devrait trouver dans une cellule \n",
    "#si l’hypothèse nulle était vraie.\n",
    "tx_df= pd.DataFrame(tx)\n",
    "ty_df = pd.DataFrame(ty)\n",
    "\n",
    "tx_df.columns = [\"s\"]\n",
    "ty_df.columns = [\"s\"]\n",
    "\n",
    "#Valeurs totales observées\n",
    "n = len(df)\n",
    "\n",
    "#Produit matriciel. On utilise pd.T pour pivoter une des deux séries.\n",
    "indep = (tx_df.dot(ty_df.T) / n)\n",
    "indep"
   ]
  },
  {
   "cell_type": "code",
   "execution_count": 90,
   "metadata": {},
   "outputs": [
    {
     "data": {
      "text/html": [
       "<div>\n",
       "<style scoped>\n",
       "    .dataframe tbody tr th:only-of-type {\n",
       "        vertical-align: middle;\n",
       "    }\n",
       "\n",
       "    .dataframe tbody tr th {\n",
       "        vertical-align: top;\n",
       "    }\n",
       "\n",
       "    .dataframe thead th {\n",
       "        text-align: right;\n",
       "    }\n",
       "</style>\n",
       "<table border=\"1\" class=\"dataframe\">\n",
       "  <thead>\n",
       "    <tr style=\"text-align: right;\">\n",
       "      <th>categ</th>\n",
       "      <th>0</th>\n",
       "      <th>1</th>\n",
       "      <th>2</th>\n",
       "    </tr>\n",
       "  </thead>\n",
       "  <tbody>\n",
       "    <tr>\n",
       "      <th>f</th>\n",
       "      <td>1.218952</td>\n",
       "      <td>12.120116</td>\n",
       "      <td>26.746502</td>\n",
       "    </tr>\n",
       "    <tr>\n",
       "      <th>m</th>\n",
       "      <td>1.211139</td>\n",
       "      <td>12.042430</td>\n",
       "      <td>26.575064</td>\n",
       "    </tr>\n",
       "  </tbody>\n",
       "</table>\n",
       "</div>"
      ],
      "text/plain": [
       "categ         0          1          2\n",
       "f      1.218952  12.120116  26.746502\n",
       "m      1.211139  12.042430  26.575064"
      ]
     },
     "execution_count": 90,
     "metadata": {},
     "output_type": "execute_result"
    }
   ],
   "source": [
    "#Matrice \"écart au carré normalisé de la valeur attendue VS valeur observée\"\n",
    "mesure = (c-indep)**2/indep\n",
    "mesure"
   ]
  },
  {
   "cell_type": "code",
   "execution_count": 91,
   "metadata": {},
   "outputs": [
    {
     "data": {
      "text/plain": [
       "79.91420286628872"
      ]
     },
     "execution_count": 91,
     "metadata": {},
     "output_type": "execute_result"
    }
   ],
   "source": [
    "#Calcul du Chi2\n",
    "#Tester l’hypothèse nulle consiste à comparer les occurrences observées (celles déjà dans le tableau) \n",
    "#avec les occurrences attendues.\n",
    "chi2 = mesure.sum().sum()\n",
    "chi2"
   ]
  },
  {
   "cell_type": "code",
   "execution_count": 92,
   "metadata": {},
   "outputs": [
    {
     "data": {
      "image/png": "[encoded data removed]",
      "text/plain": [
       "<Figure size 1008x504 with 2 Axes>"
      ]
     },
     "metadata": {},
     "output_type": "display_data"
    }
   ],
   "source": [
    "#HeatMap \n",
    "table = (mesure/chi2)\n",
    "sns.heatmap(table, annot=True, cmap=\"plasma\", linewidths=0.1)\n",
    "\n",
    "plt.title('HeatMap Sexe clients vs Catégorie produits')\n",
    "plt.xlabel('Categ.')\n",
    "plt.ylabel('Sexe')\n",
    "\n",
    "plt.savefig(\"p4_graphic/heatmap_sexe_categories.png\")\n",
    "plt.show()"
   ]
  },
  {
   "cell_type": "markdown",
   "metadata": {},
   "source": [
    "Le test de Chi2 est utilisé pour tester l'hypothèse nulle (H0) d'absence de relation entre deux variables catégorielles, ce test vérifie donc l'hypothèse d'indépendance de ces variables.\n",
    "\n",
    "La valeur de Chi2 est une quantification de cet écart (entre les occurences attendues et celles observées). Plus la valeur sera élevée, plus l'écart entre l'hypothèse nulle et la situation réelle sera grand.\n",
    "\n",
    "Plus l’occurrence observée est près de l’occurrence attendue, plus la fraction calculée pour chaque cellule est petite et moins l’écart avec H0 est grand. "
   ]
  },
  {
   "cell_type": "code",
   "execution_count": 93,
   "metadata": {},
   "outputs": [
    {
     "data": {
      "text/plain": [
       "(79.91420286628872, 2, 4.434568162842409e-18)"
      ]
     },
     "execution_count": 93,
     "metadata": {},
     "output_type": "execute_result"
    }
   ],
   "source": [
    "#Calcul du khi2 et de la p-value à partir de la matrice des valeurs observées avec scipy \n",
    "#Degré de liberté = (nombre de lignes – 1) X (nombre de colonnes – 1)\n",
    "chi2, pvalue, degrees, expected = st.chi2_contingency(cont)\n",
    "chi2, degrees, pvalue"
   ]
  },
  {
   "cell_type": "markdown",
   "metadata": {},
   "source": [
    "*L'indice élevé du Chi2 démontre une importance significative entre les occurences théoriques et celles du tableau de contigence. De plus, la comparaison de p-value (4e-16%) avec notre seuil de significativité (traditionnellement 5%) expose une valeur inférieure au seuil. L'hypothèse nulle est rejetée en faveur de l’hypothèse alternative, il existe donc un lien entre le sexe des clients et les catégories produits.* "
   ]
  },
  {
   "cell_type": "markdown",
   "metadata": {},
   "source": [
    "## Analyse de la corrélation entre l'âge clients et le montant total des achats"
   ]
  },
  {
   "cell_type": "code",
   "execution_count": 94,
   "metadata": {},
   "outputs": [
    {
     "data": {
      "text/html": [
       "<div>\n",
       "<style scoped>\n",
       "    .dataframe tbody tr th:only-of-type {\n",
       "        vertical-align: middle;\n",
       "    }\n",
       "\n",
       "    .dataframe tbody tr th {\n",
       "        vertical-align: top;\n",
       "    }\n",
       "\n",
       "    .dataframe thead th {\n",
       "        text-align: right;\n",
       "    }\n",
       "</style>\n",
       "<table border=\"1\" class=\"dataframe\">\n",
       "  <thead>\n",
       "    <tr style=\"text-align: right;\">\n",
       "      <th></th>\n",
       "      <th>age</th>\n",
       "      <th>price</th>\n",
       "    </tr>\n",
       "  </thead>\n",
       "  <tbody>\n",
       "    <tr>\n",
       "      <th>75</th>\n",
       "      <td>93</td>\n",
       "      <td>1.27526</td>\n",
       "    </tr>\n",
       "    <tr>\n",
       "      <th>74</th>\n",
       "      <td>92</td>\n",
       "      <td>1.97372</td>\n",
       "    </tr>\n",
       "    <tr>\n",
       "      <th>73</th>\n",
       "      <td>91</td>\n",
       "      <td>1.30866</td>\n",
       "    </tr>\n",
       "    <tr>\n",
       "      <th>72</th>\n",
       "      <td>90</td>\n",
       "      <td>2.34654</td>\n",
       "    </tr>\n",
       "    <tr>\n",
       "      <th>71</th>\n",
       "      <td>89</td>\n",
       "      <td>2.45363</td>\n",
       "    </tr>\n",
       "  </tbody>\n",
       "</table>\n",
       "</div>"
      ],
      "text/plain": [
       "    age    price\n",
       "75   93  1.27526\n",
       "74   92  1.97372\n",
       "73   91  1.30866\n",
       "72   90  2.34654\n",
       "71   89  2.45363"
      ]
     },
     "execution_count": 94,
     "metadata": {},
     "output_type": "execute_result"
    }
   ],
   "source": [
    "#Agrégation pour sommer les ventes 'price' (produits achetés) en fonction de l'âge des clients\n",
    "#Création d'une variable 'age_price'\n",
    "age_price = df.groupby('age').sum().reset_index()\n",
    "age_price = age_price[['age', 'price']].sort_values(by='age', ascending=False) \n",
    "age_price['price'] = age_price['price'] / 1000 #Valeurs exprimées en K€\n",
    "\n",
    "age_price.head() #Apperçu des données âges / ventes"
   ]
  },
  {
   "cell_type": "code",
   "execution_count": 95,
   "metadata": {},
   "outputs": [
    {
     "data": {
      "text/html": [
       "<div>\n",
       "<style scoped>\n",
       "    .dataframe tbody tr th:only-of-type {\n",
       "        vertical-align: middle;\n",
       "    }\n",
       "\n",
       "    .dataframe tbody tr th {\n",
       "        vertical-align: top;\n",
       "    }\n",
       "\n",
       "    .dataframe thead th {\n",
       "        text-align: right;\n",
       "    }\n",
       "</style>\n",
       "<table border=\"1\" class=\"dataframe\">\n",
       "  <thead>\n",
       "    <tr style=\"text-align: right;\">\n",
       "      <th></th>\n",
       "      <th>age</th>\n",
       "      <th>price</th>\n",
       "    </tr>\n",
       "  </thead>\n",
       "  <tbody>\n",
       "    <tr>\n",
       "      <th>4</th>\n",
       "      <td>22</td>\n",
       "      <td>75.59532</td>\n",
       "    </tr>\n",
       "    <tr>\n",
       "      <th>3</th>\n",
       "      <td>21</td>\n",
       "      <td>80.60593</td>\n",
       "    </tr>\n",
       "    <tr>\n",
       "      <th>2</th>\n",
       "      <td>20</td>\n",
       "      <td>84.11059</td>\n",
       "    </tr>\n",
       "    <tr>\n",
       "      <th>1</th>\n",
       "      <td>19</td>\n",
       "      <td>83.07037</td>\n",
       "    </tr>\n",
       "    <tr>\n",
       "      <th>0</th>\n",
       "      <td>18</td>\n",
       "      <td>277.54029</td>\n",
       "    </tr>\n",
       "  </tbody>\n",
       "</table>\n",
       "</div>"
      ],
      "text/plain": [
       "   age      price\n",
       "4   22   75.59532\n",
       "3   21   80.60593\n",
       "2   20   84.11059\n",
       "1   19   83.07037\n",
       "0   18  277.54029"
      ]
     },
     "execution_count": 95,
     "metadata": {},
     "output_type": "execute_result"
    }
   ],
   "source": [
    "age_price.tail()"
   ]
  },
  {
   "cell_type": "code",
   "execution_count": 96,
   "metadata": {},
   "outputs": [
    {
     "data": {
      "image/png": "[encoded data removed]",
      "text/plain": [
       "<Figure size 1008x504 with 1 Axes>"
      ]
     },
     "metadata": {},
     "output_type": "display_data"
    }
   ],
   "source": [
    "#Visualisation avec un scatterplot (âge clients vs montant total des achats)\n",
    "plt.plot(age_price[age_price.price < 200].age, age_price[age_price.price < 200].price, 'o', color='green')\n",
    "\n",
    "plt.xlabel('age')\n",
    "plt.ylabel('Montant achat (K€)')\n",
    "plt.title('Montant Total des achats selon l\\'âge du client')\n",
    "\n",
    "plt.savefig(\"p4_graphic/scatterplot_montant_achat_age_client.png\")\n",
    "plt.show()"
   ]
  },
  {
   "cell_type": "code",
   "execution_count": 97,
   "metadata": {},
   "outputs": [
    {
     "data": {
      "text/plain": [
       "-0.7752574073391366"
      ]
     },
     "execution_count": 97,
     "metadata": {},
     "output_type": "execute_result"
    }
   ],
   "source": [
    "#Coefficient de corrélation linéaire de Pearson\n",
    "coef_age_price = st.pearsonr(age_price.age, age_price.price)[0]\n",
    "coef_age_price"
   ]
  },
  {
   "cell_type": "markdown",
   "metadata": {},
   "source": [
    "Le coefficient est négatif par conséquent, on peut émettre l'hypothèse que plus les consommateurs sont agés plus le montant total de leur achat est faible. Or le coefficient est plus proche de -1 que de zéro. Par conséquent, on peut affirmer que plus les consommateurs sont agés plus le montant total de leur achat est faible.(forte correlation)"
   ]
  },
  {
   "cell_type": "markdown",
   "metadata": {},
   "source": [
    "## Analyse de la corrélation entre l'âge clients et la fréquence d'achat\n",
    "Ici la fréquence d'achat correspond au nombre d'achats par mois"
   ]
  },
  {
   "cell_type": "code",
   "execution_count": 98,
   "metadata": {},
   "outputs": [
    {
     "data": {
      "text/html": [
       "<div>\n",
       "<style scoped>\n",
       "    .dataframe tbody tr th:only-of-type {\n",
       "        vertical-align: middle;\n",
       "    }\n",
       "\n",
       "    .dataframe tbody tr th {\n",
       "        vertical-align: top;\n",
       "    }\n",
       "\n",
       "    .dataframe thead th {\n",
       "        text-align: right;\n",
       "    }\n",
       "</style>\n",
       "<table border=\"1\" class=\"dataframe\">\n",
       "  <thead>\n",
       "    <tr style=\"text-align: right;\">\n",
       "      <th></th>\n",
       "      <th>client_id</th>\n",
       "      <th>sex</th>\n",
       "      <th>birth</th>\n",
       "      <th>id_prod</th>\n",
       "      <th>date</th>\n",
       "      <th>session_id</th>\n",
       "      <th>price</th>\n",
       "      <th>categ</th>\n",
       "      <th>age</th>\n",
       "    </tr>\n",
       "  </thead>\n",
       "  <tbody>\n",
       "    <tr>\n",
       "      <th>0</th>\n",
       "      <td>c_4410</td>\n",
       "      <td>f</td>\n",
       "      <td>1967</td>\n",
       "      <td>0_1420</td>\n",
       "      <td>2021-03-22 22:31:25.825764</td>\n",
       "      <td>s_10092</td>\n",
       "      <td>11.53</td>\n",
       "      <td>0</td>\n",
       "      <td>55</td>\n",
       "    </tr>\n",
       "    <tr>\n",
       "      <th>1</th>\n",
       "      <td>c_4410</td>\n",
       "      <td>f</td>\n",
       "      <td>1967</td>\n",
       "      <td>0_1390</td>\n",
       "      <td>2021-09-24 23:35:40.652636</td>\n",
       "      <td>s_94984</td>\n",
       "      <td>19.37</td>\n",
       "      <td>0</td>\n",
       "      <td>55</td>\n",
       "    </tr>\n",
       "    <tr>\n",
       "      <th>2</th>\n",
       "      <td>c_4410</td>\n",
       "      <td>f</td>\n",
       "      <td>1967</td>\n",
       "      <td>1_483</td>\n",
       "      <td>2021-03-13 21:35:55.949042</td>\n",
       "      <td>s_5913</td>\n",
       "      <td>15.99</td>\n",
       "      <td>1</td>\n",
       "      <td>55</td>\n",
       "    </tr>\n",
       "    <tr>\n",
       "      <th>3</th>\n",
       "      <td>c_4410</td>\n",
       "      <td>f</td>\n",
       "      <td>1967</td>\n",
       "      <td>1_267</td>\n",
       "      <td>2021-09-24 23:15:59.919591</td>\n",
       "      <td>s_94984</td>\n",
       "      <td>27.99</td>\n",
       "      <td>1</td>\n",
       "      <td>55</td>\n",
       "    </tr>\n",
       "    <tr>\n",
       "      <th>4</th>\n",
       "      <td>c_4410</td>\n",
       "      <td>f</td>\n",
       "      <td>1967</td>\n",
       "      <td>1_395</td>\n",
       "      <td>2021-09-24 23:57:35.138518</td>\n",
       "      <td>s_94984</td>\n",
       "      <td>28.99</td>\n",
       "      <td>1</td>\n",
       "      <td>55</td>\n",
       "    </tr>\n",
       "  </tbody>\n",
       "</table>\n",
       "</div>"
      ],
      "text/plain": [
       "  client_id sex  birth id_prod                       date session_id  price  \\\n",
       "0    c_4410   f   1967  0_1420 2021-03-22 22:31:25.825764    s_10092  11.53   \n",
       "1    c_4410   f   1967  0_1390 2021-09-24 23:35:40.652636    s_94984  19.37   \n",
       "2    c_4410   f   1967   1_483 2021-03-13 21:35:55.949042     s_5913  15.99   \n",
       "3    c_4410   f   1967   1_267 2021-09-24 23:15:59.919591    s_94984  27.99   \n",
       "4    c_4410   f   1967   1_395 2021-09-24 23:57:35.138518    s_94984  28.99   \n",
       "\n",
       "   categ  age  \n",
       "0      0   55  \n",
       "1      0   55  \n",
       "2      1   55  \n",
       "3      1   55  \n",
       "4      1   55  "
      ]
     },
     "execution_count": 98,
     "metadata": {},
     "output_type": "execute_result"
    }
   ],
   "source": [
    "#Analyse faite à partir du dataframe global df\n",
    "df.head()"
   ]
  },
  {
   "cell_type": "code",
   "execution_count": 99,
   "metadata": {},
   "outputs": [
    {
     "data": {
      "text/html": [
       "<div>\n",
       "<style scoped>\n",
       "    .dataframe tbody tr th:only-of-type {\n",
       "        vertical-align: middle;\n",
       "    }\n",
       "\n",
       "    .dataframe tbody tr th {\n",
       "        vertical-align: top;\n",
       "    }\n",
       "\n",
       "    .dataframe thead th {\n",
       "        text-align: right;\n",
       "    }\n",
       "</style>\n",
       "<table border=\"1\" class=\"dataframe\">\n",
       "  <thead>\n",
       "    <tr style=\"text-align: right;\">\n",
       "      <th></th>\n",
       "      <th>age</th>\n",
       "      <th>session_id</th>\n",
       "      <th>f</th>\n",
       "    </tr>\n",
       "  </thead>\n",
       "  <tbody>\n",
       "    <tr>\n",
       "      <th>75</th>\n",
       "      <td>93</td>\n",
       "      <td>84</td>\n",
       "      <td>0.000268</td>\n",
       "    </tr>\n",
       "    <tr>\n",
       "      <th>74</th>\n",
       "      <td>92</td>\n",
       "      <td>111</td>\n",
       "      <td>0.000354</td>\n",
       "    </tr>\n",
       "    <tr>\n",
       "      <th>73</th>\n",
       "      <td>91</td>\n",
       "      <td>78</td>\n",
       "      <td>0.000249</td>\n",
       "    </tr>\n",
       "    <tr>\n",
       "      <th>72</th>\n",
       "      <td>90</td>\n",
       "      <td>141</td>\n",
       "      <td>0.000449</td>\n",
       "    </tr>\n",
       "    <tr>\n",
       "      <th>71</th>\n",
       "      <td>89</td>\n",
       "      <td>150</td>\n",
       "      <td>0.000478</td>\n",
       "    </tr>\n",
       "    <tr>\n",
       "      <th>70</th>\n",
       "      <td>88</td>\n",
       "      <td>255</td>\n",
       "      <td>0.000813</td>\n",
       "    </tr>\n",
       "    <tr>\n",
       "      <th>69</th>\n",
       "      <td>87</td>\n",
       "      <td>132</td>\n",
       "      <td>0.000421</td>\n",
       "    </tr>\n",
       "    <tr>\n",
       "      <th>68</th>\n",
       "      <td>86</td>\n",
       "      <td>379</td>\n",
       "      <td>0.001208</td>\n",
       "    </tr>\n",
       "    <tr>\n",
       "      <th>67</th>\n",
       "      <td>85</td>\n",
       "      <td>434</td>\n",
       "      <td>0.001383</td>\n",
       "    </tr>\n",
       "    <tr>\n",
       "      <th>66</th>\n",
       "      <td>84</td>\n",
       "      <td>416</td>\n",
       "      <td>0.001326</td>\n",
       "    </tr>\n",
       "  </tbody>\n",
       "</table>\n",
       "</div>"
      ],
      "text/plain": [
       "    age  session_id         f\n",
       "75   93          84  0.000268\n",
       "74   92         111  0.000354\n",
       "73   91          78  0.000249\n",
       "72   90         141  0.000449\n",
       "71   89         150  0.000478\n",
       "70   88         255  0.000813\n",
       "69   87         132  0.000421\n",
       "68   86         379  0.001208\n",
       "67   85         434  0.001383\n",
       "66   84         416  0.001326"
      ]
     },
     "execution_count": 99,
     "metadata": {},
     "output_type": "execute_result"
    }
   ],
   "source": [
    "#Agrégation des données selon l'âge client\n",
    "#Le nombre d'achat mensuel est obtenu à partir du comptage des sessions clients par mois\n",
    "#Hypothèse 1 id_session = 1 transation\n",
    "customers_freq = df.groupby('age').count().reset_index()\n",
    "customers_freq = customers_freq[['age', 'session_id']]\n",
    "\n",
    "#Création d'une variable fréquence 'f'\n",
    "customers_freq['f'] = customers_freq['session_id'] / sum(customers_freq['session_id'])\n",
    "customers_freq.sort_values(by='age', ascending=False).head(10)"
   ]
  },
  {
   "cell_type": "code",
   "execution_count": 100,
   "metadata": {},
   "outputs": [
    {
     "data": {
      "image/png": "[encoded data removed]",
      "text/plain": [
       "<Figure size 1008x504 with 1 Axes>"
      ]
     },
     "metadata": {},
     "output_type": "display_data"
    }
   ],
   "source": [
    "#Visualisation avec un scatterplot (âge client vs fréquence d'achat mensuelle)\n",
    "#customers_freq.plot.scatter(x = 'age', y = 'f', marker = 'o', color='purple')\n",
    "plt.plot(customers_freq[customers_freq.f < .05].age, customers_freq[customers_freq.f < .05].f, 'o')\n",
    "\n",
    "plt.xlabel('age')\n",
    "plt.ylabel('Fréquence achat')\n",
    "plt.title('Fréquence des achats selon l\\'age du client')\n",
    "\n",
    "plt.savefig(\"p4_graphic/scatterplot_frequence_achat_age_client.png\")\n",
    "plt.show()"
   ]
  },
  {
   "cell_type": "code",
   "execution_count": 101,
   "metadata": {},
   "outputs": [
    {
     "data": {
      "text/plain": [
       "-0.5321182987672953"
      ]
     },
     "execution_count": 101,
     "metadata": {},
     "output_type": "execute_result"
    }
   ],
   "source": [
    "#Coefficient de corrélation linéaire de Pearson\n",
    "coef_customers_freq = st.pearsonr(customers_freq.age, customers_freq.f)[0]\n",
    "coef_customers_freq"
   ]
  },
  {
   "cell_type": "markdown",
   "metadata": {},
   "source": [
    "*Corrélation confirmée par le coefficient de Pearson, il existe bien un lien entre l'âge des clients et leurs fréquences d'achat. Il semblerait que des groupes de clients se formalisent sur cette corrélation, par exemple entre 18 et 30 ans.*"
   ]
  },
  {
   "cell_type": "markdown",
   "metadata": {},
   "source": [
    "## Analyse de la corrélation entre l'âge clients et la taille du panier moyen \n",
    "Ici la taille du panier moyen sera exprimée en nombre d'articles"
   ]
  },
  {
   "cell_type": "code",
   "execution_count": 102,
   "metadata": {},
   "outputs": [
    {
     "data": {
      "text/html": [
       "<div>\n",
       "<style scoped>\n",
       "    .dataframe tbody tr th:only-of-type {\n",
       "        vertical-align: middle;\n",
       "    }\n",
       "\n",
       "    .dataframe tbody tr th {\n",
       "        vertical-align: top;\n",
       "    }\n",
       "\n",
       "    .dataframe thead th {\n",
       "        text-align: right;\n",
       "    }\n",
       "</style>\n",
       "<table border=\"1\" class=\"dataframe\">\n",
       "  <thead>\n",
       "    <tr style=\"text-align: right;\">\n",
       "      <th></th>\n",
       "      <th>client_id</th>\n",
       "      <th>sex</th>\n",
       "      <th>birth</th>\n",
       "      <th>id_prod</th>\n",
       "      <th>date</th>\n",
       "      <th>session_id</th>\n",
       "      <th>price</th>\n",
       "      <th>categ</th>\n",
       "      <th>age</th>\n",
       "    </tr>\n",
       "  </thead>\n",
       "  <tbody>\n",
       "    <tr>\n",
       "      <th>0</th>\n",
       "      <td>c_4410</td>\n",
       "      <td>f</td>\n",
       "      <td>1967</td>\n",
       "      <td>0_1420</td>\n",
       "      <td>2021-03-22 22:31:25.825764</td>\n",
       "      <td>s_10092</td>\n",
       "      <td>11.53</td>\n",
       "      <td>0</td>\n",
       "      <td>55</td>\n",
       "    </tr>\n",
       "    <tr>\n",
       "      <th>1</th>\n",
       "      <td>c_4410</td>\n",
       "      <td>f</td>\n",
       "      <td>1967</td>\n",
       "      <td>0_1390</td>\n",
       "      <td>2021-09-24 23:35:40.652636</td>\n",
       "      <td>s_94984</td>\n",
       "      <td>19.37</td>\n",
       "      <td>0</td>\n",
       "      <td>55</td>\n",
       "    </tr>\n",
       "    <tr>\n",
       "      <th>2</th>\n",
       "      <td>c_4410</td>\n",
       "      <td>f</td>\n",
       "      <td>1967</td>\n",
       "      <td>1_483</td>\n",
       "      <td>2021-03-13 21:35:55.949042</td>\n",
       "      <td>s_5913</td>\n",
       "      <td>15.99</td>\n",
       "      <td>1</td>\n",
       "      <td>55</td>\n",
       "    </tr>\n",
       "    <tr>\n",
       "      <th>3</th>\n",
       "      <td>c_4410</td>\n",
       "      <td>f</td>\n",
       "      <td>1967</td>\n",
       "      <td>1_267</td>\n",
       "      <td>2021-09-24 23:15:59.919591</td>\n",
       "      <td>s_94984</td>\n",
       "      <td>27.99</td>\n",
       "      <td>1</td>\n",
       "      <td>55</td>\n",
       "    </tr>\n",
       "    <tr>\n",
       "      <th>4</th>\n",
       "      <td>c_4410</td>\n",
       "      <td>f</td>\n",
       "      <td>1967</td>\n",
       "      <td>1_395</td>\n",
       "      <td>2021-09-24 23:57:35.138518</td>\n",
       "      <td>s_94984</td>\n",
       "      <td>28.99</td>\n",
       "      <td>1</td>\n",
       "      <td>55</td>\n",
       "    </tr>\n",
       "  </tbody>\n",
       "</table>\n",
       "</div>"
      ],
      "text/plain": [
       "  client_id sex  birth id_prod                       date session_id  price  \\\n",
       "0    c_4410   f   1967  0_1420 2021-03-22 22:31:25.825764    s_10092  11.53   \n",
       "1    c_4410   f   1967  0_1390 2021-09-24 23:35:40.652636    s_94984  19.37   \n",
       "2    c_4410   f   1967   1_483 2021-03-13 21:35:55.949042     s_5913  15.99   \n",
       "3    c_4410   f   1967   1_267 2021-09-24 23:15:59.919591    s_94984  27.99   \n",
       "4    c_4410   f   1967   1_395 2021-09-24 23:57:35.138518    s_94984  28.99   \n",
       "\n",
       "   categ  age  \n",
       "0      0   55  \n",
       "1      0   55  \n",
       "2      1   55  \n",
       "3      1   55  \n",
       "4      1   55  "
      ]
     },
     "execution_count": 102,
     "metadata": {},
     "output_type": "execute_result"
    }
   ],
   "source": [
    "#Analyse faite à partir du dataframe global df\n",
    "df.head()"
   ]
  },
  {
   "cell_type": "code",
   "execution_count": 103,
   "metadata": {},
   "outputs": [
    {
     "data": {
      "text/html": [
       "<div>\n",
       "<style scoped>\n",
       "    .dataframe tbody tr th:only-of-type {\n",
       "        vertical-align: middle;\n",
       "    }\n",
       "\n",
       "    .dataframe tbody tr th {\n",
       "        vertical-align: top;\n",
       "    }\n",
       "\n",
       "    .dataframe thead th {\n",
       "        text-align: right;\n",
       "    }\n",
       "</style>\n",
       "<table border=\"1\" class=\"dataframe\">\n",
       "  <thead>\n",
       "    <tr style=\"text-align: right;\">\n",
       "      <th></th>\n",
       "      <th>age</th>\n",
       "      <th>id_prod</th>\n",
       "    </tr>\n",
       "  </thead>\n",
       "  <tbody>\n",
       "    <tr>\n",
       "      <th>71</th>\n",
       "      <td>89</td>\n",
       "      <td>1.415094</td>\n",
       "    </tr>\n",
       "    <tr>\n",
       "      <th>72</th>\n",
       "      <td>90</td>\n",
       "      <td>1.516129</td>\n",
       "    </tr>\n",
       "    <tr>\n",
       "      <th>73</th>\n",
       "      <td>91</td>\n",
       "      <td>1.772727</td>\n",
       "    </tr>\n",
       "    <tr>\n",
       "      <th>74</th>\n",
       "      <td>92</td>\n",
       "      <td>1.608696</td>\n",
       "    </tr>\n",
       "    <tr>\n",
       "      <th>75</th>\n",
       "      <td>93</td>\n",
       "      <td>1.354839</td>\n",
       "    </tr>\n",
       "  </tbody>\n",
       "</table>\n",
       "</div>"
      ],
      "text/plain": [
       "    age   id_prod\n",
       "71   89  1.415094\n",
       "72   90  1.516129\n",
       "73   91  1.772727\n",
       "74   92  1.608696\n",
       "75   93  1.354839"
      ]
     },
     "execution_count": 103,
     "metadata": {},
     "output_type": "execute_result"
    }
   ],
   "source": [
    "#Première agrégation selon l'age client et les sessions en comptage de modalités\n",
    "customers_shop = df.groupby(['age', 'session_id']).count().reset_index()\n",
    "\n",
    "#Seconde agrégation selon l'age client en moyenne de produits achetés \n",
    "customers_shop = customers_shop.groupby('age').mean().reset_index()\n",
    "customers_shop = customers_shop[['age', 'id_prod']]\n",
    "customers_shop.tail()"
   ]
  },
  {
   "cell_type": "code",
   "execution_count": 104,
   "metadata": {},
   "outputs": [
    {
     "data": {
      "image/png": "[encoded data removed]",
      "text/plain": [
       "<Figure size 1008x504 with 1 Axes>"
      ]
     },
     "metadata": {},
     "output_type": "display_data"
    }
   ],
   "source": [
    "#Visualisation avec un scatterplot (âge client vs taille panier moyen)\n",
    "plt.plot(customers_shop.age, customers_shop.id_prod, 'o', color='purple')\n",
    "\n",
    "plt.xlabel('age')\n",
    "plt.ylabel('Panier moyen (Nbe de produits)')\n",
    "plt.title('Panier moyen en nombre de produits selon l\\'age client')\n",
    "\n",
    "plt.savefig(\"p4_graphic/scatterplot_panier_moyen_age_client.png\")\n",
    "plt.show()"
   ]
  },
  {
   "cell_type": "code",
   "execution_count": 106,
   "metadata": {},
   "outputs": [],
   "source": [
    "#Subsets pour identifier les clusters clients \n",
    "customers_shop31 = customers_shop[customers_shop.age < 31]\n",
    "customers_shop3050 = customers_shop[(customers_shop.age > 31) & (customers_shop.age < 50)]\n",
    "customers_shop50 = customers_shop[customers_shop.age > 51]"
   ]
  },
  {
   "cell_type": "code",
   "execution_count": 107,
   "metadata": {},
   "outputs": [
    {
     "data": {
      "image/png": "[encoded data removed]",
      "text/plain": [
       "<Figure size 1008x504 with 1 Axes>"
      ]
     },
     "metadata": {},
     "output_type": "display_data"
    }
   ],
   "source": [
    "#Visualisation avec scatterplot selon les groupes d'individus identifiés\n",
    "plt.plot(customers_shop31.age, customers_shop31.id_prod, '+', color='green')\n",
    "plt.plot(customers_shop3050.age, customers_shop3050.id_prod, '+', color='blue')\n",
    "plt.plot(customers_shop50.age, customers_shop50.id_prod, '+', color='purple')\n",
    "\n",
    "plt.xlabel('age')\n",
    "plt.ylabel('Panier moyen (Nbe de produits)')\n",
    "plt.title('Panier moyen en nombre de produits selon l\\'age client')\n",
    "\n",
    "plt.savefig(\"p4_graphic/scatterplot_panier_moyen_age_client_clusters.png\")\n",
    "plt.show()"
   ]
  },
  {
   "cell_type": "code",
   "execution_count": 108,
   "metadata": {},
   "outputs": [
    {
     "data": {
      "text/plain": [
       "(-0.5769136480926942, 4.905833323312418e-08)"
      ]
     },
     "execution_count": 108,
     "metadata": {},
     "output_type": "execute_result"
    }
   ],
   "source": [
    "#Coefficient de corrélation linéaire de Pearson\n",
    "coef_customers_shop = st.pearsonr(customers_shop.age, customers_shop.id_prod)\n",
    "coef_customers_shop "
   ]
  },
  {
   "cell_type": "markdown",
   "metadata": {},
   "source": [
    "*Le test de corrélation démontre un certain lien entre l'âge du client et le panier moyen. Par exemple, sur les individus de plus de 50 ans, le panier moyen reste faible. Il existe également un lien sur les individus de 18 à 30 ans et de 30 à 50 ans. La linéarité de la corrélation existe mais selon des corpus de clients visiblement distincts, par tranches d'âges.*"
   ]
  },
  {
   "cell_type": "markdown",
   "metadata": {},
   "source": [
    "## Analyse de la corrélation entre l'âge clients et la catégorie produits"
   ]
  },
  {
   "cell_type": "markdown",
   "metadata": {},
   "source": [
    "Afin de simplifier l'analyse, il est nécessaire de procéder par un découpage en classes (discrétisation). Donc très clairement le but est de pouvoir réduire nos individus \"âges\" par classes, de manière à pouvoir interpréter plus facilement les résultats."
   ]
  },
  {
   "cell_type": "markdown",
   "metadata": {},
   "source": [
    "**Comment choisir le nombre de classes?**\n",
    "\n",
    "Avec par exemple la formule de Sturges-Huntsberger : k = 1 + 3.33*log(N,base=10)\n",
    "\n",
    "ou encore   Brooks-Carruthers : k = 5*log(N,base=10) \n"
   ]
  },
  {
   "cell_type": "code",
   "execution_count": 109,
   "metadata": {},
   "outputs": [
    {
     "data": {
      "text/plain": [
       "227"
      ]
     },
     "execution_count": 109,
     "metadata": {},
     "output_type": "execute_result"
    }
   ],
   "source": [
    "#N est le nombre d'observations, ici représentées par les valeurs transactionnelles par âge et par catégorie\n",
    "len(df.groupby(['age', 'categ']).count().reset_index())"
   ]
  },
  {
   "cell_type": "code",
   "execution_count": 110,
   "metadata": {},
   "outputs": [
    {
     "data": {
      "text/plain": [
       "8.853419523977076"
      ]
     },
     "execution_count": 110,
     "metadata": {},
     "output_type": "execute_result"
    }
   ],
   "source": [
    "#Formule de Huntsberger : 1 + 3,3*log10(N)\n",
    "1 + ((10/3) * mth.log10(227))"
   ]
  },
  {
   "cell_type": "code",
   "execution_count": 111,
   "metadata": {},
   "outputs": [
    {
     "data": {
      "text/plain": [
       "11.780129285965613"
      ]
     },
     "execution_count": 111,
     "metadata": {},
     "output_type": "execute_result"
    }
   ],
   "source": [
    "#Formule de Brooks-Carruthers : 5*log10(N)\n",
    "5 * mth.log10(227)"
   ]
  },
  {
   "cell_type": "markdown",
   "metadata": {},
   "source": [
    "*Dans notre contexte, nous pouvons retenir un nombre de classes de 9.*"
   ]
  },
  {
   "cell_type": "code",
   "execution_count": 112,
   "metadata": {},
   "outputs": [
    {
     "data": {
      "text/html": [
       "<div>\n",
       "<style scoped>\n",
       "    .dataframe tbody tr th:only-of-type {\n",
       "        vertical-align: middle;\n",
       "    }\n",
       "\n",
       "    .dataframe tbody tr th {\n",
       "        vertical-align: top;\n",
       "    }\n",
       "\n",
       "    .dataframe thead th {\n",
       "        text-align: right;\n",
       "    }\n",
       "</style>\n",
       "<table border=\"1\" class=\"dataframe\">\n",
       "  <thead>\n",
       "    <tr style=\"text-align: right;\">\n",
       "      <th></th>\n",
       "      <th>age</th>\n",
       "      <th>categ</th>\n",
       "      <th>session_id</th>\n",
       "    </tr>\n",
       "  </thead>\n",
       "  <tbody>\n",
       "    <tr>\n",
       "      <th>0</th>\n",
       "      <td>18</td>\n",
       "      <td>0</td>\n",
       "      <td>1527</td>\n",
       "    </tr>\n",
       "    <tr>\n",
       "      <th>1</th>\n",
       "      <td>18</td>\n",
       "      <td>1</td>\n",
       "      <td>2701</td>\n",
       "    </tr>\n",
       "    <tr>\n",
       "      <th>2</th>\n",
       "      <td>18</td>\n",
       "      <td>2</td>\n",
       "      <td>2723</td>\n",
       "    </tr>\n",
       "    <tr>\n",
       "      <th>3</th>\n",
       "      <td>19</td>\n",
       "      <td>0</td>\n",
       "      <td>429</td>\n",
       "    </tr>\n",
       "    <tr>\n",
       "      <th>4</th>\n",
       "      <td>19</td>\n",
       "      <td>1</td>\n",
       "      <td>800</td>\n",
       "    </tr>\n",
       "  </tbody>\n",
       "</table>\n",
       "</div>"
      ],
      "text/plain": [
       "   age  categ  session_id\n",
       "0   18      0        1527\n",
       "1   18      1        2701\n",
       "2   18      2        2723\n",
       "3   19      0         429\n",
       "4   19      1         800"
      ]
     },
     "execution_count": 112,
     "metadata": {},
     "output_type": "execute_result"
    }
   ],
   "source": [
    "#Méthode .groupby() pour agréger les données selon l'âge et la catégorie\n",
    "age_categ = df.groupby(['age', 'categ']).count().reset_index()\n",
    "age_categ = age_categ[['age', 'categ', 'session_id']]\n",
    "age_categ.head()"
   ]
  },
  {
   "cell_type": "code",
   "execution_count": 113,
   "metadata": {},
   "outputs": [
    {
     "data": {
      "text/html": [
       "<div>\n",
       "<style scoped>\n",
       "    .dataframe tbody tr th:only-of-type {\n",
       "        vertical-align: middle;\n",
       "    }\n",
       "\n",
       "    .dataframe tbody tr th {\n",
       "        vertical-align: top;\n",
       "    }\n",
       "\n",
       "    .dataframe thead th {\n",
       "        text-align: right;\n",
       "    }\n",
       "</style>\n",
       "<table border=\"1\" class=\"dataframe\">\n",
       "  <thead>\n",
       "    <tr style=\"text-align: right;\">\n",
       "      <th></th>\n",
       "      <th>age</th>\n",
       "      <th>categ</th>\n",
       "      <th>session_id</th>\n",
       "    </tr>\n",
       "  </thead>\n",
       "  <tbody>\n",
       "    <tr>\n",
       "      <th>0</th>\n",
       "      <td>(17.925, 26.333]</td>\n",
       "      <td>0</td>\n",
       "      <td>5418</td>\n",
       "    </tr>\n",
       "    <tr>\n",
       "      <th>1</th>\n",
       "      <td>(17.925, 26.333]</td>\n",
       "      <td>1</td>\n",
       "      <td>10356</td>\n",
       "    </tr>\n",
       "    <tr>\n",
       "      <th>2</th>\n",
       "      <td>(17.925, 26.333]</td>\n",
       "      <td>2</td>\n",
       "      <td>11208</td>\n",
       "    </tr>\n",
       "    <tr>\n",
       "      <th>3</th>\n",
       "      <td>(26.333, 34.667]</td>\n",
       "      <td>0</td>\n",
       "      <td>28712</td>\n",
       "    </tr>\n",
       "    <tr>\n",
       "      <th>4</th>\n",
       "      <td>(26.333, 34.667]</td>\n",
       "      <td>1</td>\n",
       "      <td>12144</td>\n",
       "    </tr>\n",
       "    <tr>\n",
       "      <th>5</th>\n",
       "      <td>(26.333, 34.667]</td>\n",
       "      <td>2</td>\n",
       "      <td>3964</td>\n",
       "    </tr>\n",
       "    <tr>\n",
       "      <th>6</th>\n",
       "      <td>(34.667, 43.0]</td>\n",
       "      <td>0</td>\n",
       "      <td>73516</td>\n",
       "    </tr>\n",
       "    <tr>\n",
       "      <th>7</th>\n",
       "      <td>(34.667, 43.0]</td>\n",
       "      <td>1</td>\n",
       "      <td>23466</td>\n",
       "    </tr>\n",
       "    <tr>\n",
       "      <th>8</th>\n",
       "      <td>(34.667, 43.0]</td>\n",
       "      <td>2</td>\n",
       "      <td>262</td>\n",
       "    </tr>\n",
       "    <tr>\n",
       "      <th>9</th>\n",
       "      <td>(43.0, 51.333]</td>\n",
       "      <td>0</td>\n",
       "      <td>47656</td>\n",
       "    </tr>\n",
       "  </tbody>\n",
       "</table>\n",
       "</div>"
      ],
      "text/plain": [
       "                age  categ  session_id\n",
       "0  (17.925, 26.333]      0        5418\n",
       "1  (17.925, 26.333]      1       10356\n",
       "2  (17.925, 26.333]      2       11208\n",
       "3  (26.333, 34.667]      0       28712\n",
       "4  (26.333, 34.667]      1       12144\n",
       "5  (26.333, 34.667]      2        3964\n",
       "6    (34.667, 43.0]      0       73516\n",
       "7    (34.667, 43.0]      1       23466\n",
       "8    (34.667, 43.0]      2         262\n",
       "9    (43.0, 51.333]      0       47656"
      ]
     },
     "execution_count": 113,
     "metadata": {},
     "output_type": "execute_result"
    }
   ],
   "source": [
    "#Méthode .cut() pour créer les 9 groupes d'âges, une segmentation des individus 'age'\n",
    "age_categ['age']= pd.cut(age_categ['age'], 9)\n",
    "age_categ = age_categ.groupby(['age','categ']).sum().reset_index()\n",
    "age_categ.head(10)"
   ]
  },
  {
   "cell_type": "code",
   "execution_count": 114,
   "metadata": {},
   "outputs": [
    {
     "data": {
      "image/png": "[encoded data removed]",
      "text/plain": [
       "<Figure size 1584x864 with 1 Axes>"
      ]
     },
     "metadata": {},
     "output_type": "display_data"
    }
   ],
   "source": [
    "#Visualisation rapide avec une BarPlot Seaborn\n",
    "fig, ax = plt.subplots(figsize=(22, 12))\n",
    "sns.barplot(x=\"age\", y=\"session_id\",hue=\"categ\", data=age_categ)\n",
    "\n",
    "ax.set_xlabel('age')\n",
    "ax.set_ylabel('Nombre de produits vendus')\n",
    "ax.set_title('Catégories produits selon l\\'âge client')\n",
    "\n",
    "plt.savefig(\"p4_graphic/barplot_categorie_produit_age_client\")\n",
    "plt.show()"
   ]
  },
  {
   "cell_type": "code",
   "execution_count": 115,
   "metadata": {},
   "outputs": [],
   "source": [
    "#Coefficient de corrélation eta carré\n",
    "X = \"categ\" #qualitative\n",
    "Y = \"age\" #quantitative\n",
    "\n",
    "def eta_squared(x,y):\n",
    "    moyenne_y = y.mean()\n",
    "    classes = []\n",
    "    for classe in x.unique():\n",
    "        yi_classe = y[x==classe]\n",
    "        classes.append({'ni': len(yi_classe),\n",
    "                        'moyenne_classe': yi_classe.mean()})\n",
    "    SCT = sum([(yj-moyenne_y)**2 for yj in y])\n",
    "    SCE = sum([c['ni']*(c['moyenne_classe']-moyenne_y)**2 for c in classes])\n",
    "    return SCE/SCT"
   ]
  },
  {
   "cell_type": "code",
   "execution_count": 116,
   "metadata": {},
   "outputs": [
    {
     "data": {
      "text/plain": [
       "0.35"
      ]
     },
     "execution_count": 116,
     "metadata": {},
     "output_type": "execute_result"
    }
   ],
   "source": [
    "round(eta_squared(age_categ.age, age_categ.session_id), 2)"
   ]
  },
  {
   "cell_type": "markdown",
   "metadata": {},
   "source": [
    "*Le rapport de corrélation est proche de 0.40, ce qui précise le précédent graphique dans lequel une certaine corrélation entre les catégories et l'âge client. Il est perceptible de voir le lien que peut avoir une catégorie en fonction d'une tranche d'âges, avec par exemple un fort succès de la catégorie 0 pour les 34 / 44 ans, ou à l'inverse une clientèle plus âgée n'adhère quasiment pas à cette catégorie, etc..*"
   ]
  },
  {
   "cell_type": "markdown",
   "metadata": {},
   "source": [
    "**En conclusion**\n",
    "\n",
    "L'analyse exploratoire faite à partir de ces 3 sources de données permettent d'avoir une première approche unidimensionnelle, à savoir la ressemblance entre individus, la variabilité des données, etc. Puis dans un second temps une approche multidimensionnelle permettant d'identifier les différentes corrélations, les liens possibles entre nos variables. \n",
    "\n",
    "Il serait interessant de pousser l'analyse sur d'autres aspects business comme celui de l'acquisition du prospect, l'origine de la transaction client, avec par exemple une question : canal internet (si oui dans quel localité se trouve le client?) ou magasin physique (si oui lequel?)."
   ]
  }
 ],
 "metadata": {
  "kernelspec": {
   "display_name": "Python 3",
   "language": "python",
   "name": "python3"
  },
  "language_info": {
   "codemirror_mode": {
    "name": "ipython",
    "version": 3
   },
   "file_extension": ".py",
   "mimetype": "text/x-python",
   "name": "python",
   "nbconvert_exporter": "python",
   "pygments_lexer": "ipython3",
   "version": "3.7.5"
  }
 },
 "nbformat": 4,
 "nbformat_minor": 2
}
